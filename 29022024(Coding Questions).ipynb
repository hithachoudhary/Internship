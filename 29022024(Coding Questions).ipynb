{
 "cells": [
  {
   "cell_type": "code",
   "execution_count": 1,
   "id": "b812ae56",
   "metadata": {},
   "outputs": [
    {
     "name": "stdout",
     "output_type": "stream",
     "text": [
      "Enter the first number: 3\n",
      "Enter the second number: 6.8\n",
      "The sum is:  9.8\n"
     ]
    }
   ],
   "source": [
    "#Sum of two numbers\n",
    "\n",
    "x=float(input(\"Enter the first number: \"))\n",
    "y=float(input(\"Enter the second number: \"))\n",
    "print(\"The sum is: \",x+y)"
   ]
  },
  {
   "cell_type": "code",
   "execution_count": 2,
   "id": "322ad279",
   "metadata": {},
   "outputs": [
    {
     "name": "stdout",
     "output_type": "stream",
     "text": [
      "Enter the first number: 5\n",
      "Enter the second number: 2.9\n",
      "The number 5.0 is greater\n"
     ]
    }
   ],
   "source": [
    "#Maximum of two numbers\n",
    "\n",
    "x=float(input(\"Enter the first number: \"))\n",
    "y=float(input(\"Enter the second number: \"))\n",
    "if x>y:\n",
    "    print(\"The number {0} is greater\".format(x))\n",
    "elif y>x:\n",
    "    print(\"The number {0} is greater\".format(y))\n",
    "else:\n",
    "    print(\"Both the numbers are equal\")"
   ]
  },
  {
   "cell_type": "code",
   "execution_count": 6,
   "id": "e412aa58",
   "metadata": {},
   "outputs": [
    {
     "name": "stdout",
     "output_type": "stream",
     "text": [
      "Enter the number: 3\n",
      "The factorial of 3 is 6\n"
     ]
    }
   ],
   "source": [
    "#Factorial of a number\n",
    "\n",
    "a=int(input(\"Enter the number: \"))\n",
    "f=1\n",
    "if a<0:\n",
    "    print(\"Please enter a number greater than 0\")\n",
    "elif a==0:\n",
    "    print(\"The factorial of 0 is 1\")\n",
    "else:\n",
    "    for i in range(1,a+1):\n",
    "        f=f*i\n",
    "    print(\"The factorial of\",a,\"is\",f)"
   ]
  },
  {
   "cell_type": "code",
   "execution_count": 11,
   "id": "848b1129",
   "metadata": {},
   "outputs": [
    {
     "name": "stdout",
     "output_type": "stream",
     "text": [
      "Enter the principal amount: 1000\n",
      "Enter the rate of interest: 5\n",
      "Enter the time period: 2\n",
      "The simple interest is:  100.0\n"
     ]
    }
   ],
   "source": [
    "#Calculate the simple interest\n",
    "\n",
    "p=float(input(\"Enter the principal amount: \"))\n",
    "r=float(input(\"Enter the rate of interest: \"))\n",
    "t=float(input(\"Enter the time period: \"))\n",
    "si=(p*r*t)/100\n",
    "print(\"The simple interest is: \",si)"
   ]
  },
  {
   "cell_type": "code",
   "execution_count": 13,
   "id": "b1d4bf13",
   "metadata": {},
   "outputs": [
    {
     "name": "stdout",
     "output_type": "stream",
     "text": [
      "Enter the principal amount: 1000\n",
      "Enter the rate of interest: 5\n",
      "Enter the time period: 2\n",
      "The compund interest is 102.5\n"
     ]
    }
   ],
   "source": [
    "#Calculate the compound interest\n",
    "\n",
    "p=float(input(\"Enter the principal amount: \"))\n",
    "r=float(input(\"Enter the rate of interest: \"))\n",
    "t=float(input(\"Enter the time period: \"))\n",
    "ci=p*((1+r/100)**t)-p\n",
    "print(\"The compund interest is\",ci)"
   ]
  },
  {
   "cell_type": "code",
   "execution_count": 14,
   "id": "99b80b52",
   "metadata": {},
   "outputs": [
    {
     "name": "stdout",
     "output_type": "stream",
     "text": [
      "Enter the number: 153\n",
      "The number 153 is Armstrong\n"
     ]
    }
   ],
   "source": [
    "#Check if a number is Armstrong or not\n",
    "\n",
    "n=int(input(\"Enter the number: \"))\n",
    "sum=0\n",
    "temp=n\n",
    "order=len(str(n))\n",
    "while temp>0:\n",
    "    dig=temp%10\n",
    "    sum+=dig**order\n",
    "    temp=temp//10\n",
    "if n==sum:\n",
    "    print(\"The number {0} is Armstrong\".format(n))\n",
    "else:\n",
    "    print(\"The number {0} is not Armstrong\".format(n))"
   ]
  },
  {
   "cell_type": "code",
   "execution_count": 15,
   "id": "0e4386c3",
   "metadata": {},
   "outputs": [
    {
     "name": "stdout",
     "output_type": "stream",
     "text": [
      "Enter the radius of the circle: 3.5\n",
      "The area of the circle is:  38.48451000647496\n"
     ]
    }
   ],
   "source": [
    "#Calculate the radius of a circle\n",
    "\n",
    "from math import pi\n",
    "r=float(input(\"Enter the radius of the circle: \"))\n",
    "area=(pi*(r**2))\n",
    "print(\"The area of the circle is: \",area)"
   ]
  },
  {
   "cell_type": "code",
   "execution_count": 4,
   "id": "16567c77",
   "metadata": {},
   "outputs": [
    {
     "name": "stdout",
     "output_type": "stream",
     "text": [
      "Enter the lower interval: 2\n",
      "Enter the upper interval: 10\n",
      "Prime numbers between 2 and 10 are:\n",
      "2 3 5 7 "
     ]
    }
   ],
   "source": [
    "#Print the prime numbers in an interval\n",
    "\n",
    "l=int(input(\"Enter the lower interval: \"))\n",
    "u=int(input(\"Enter the upper interval: \"))\n",
    "print(\"Prime numbers between\",l,\"and\",u,\"are:\")\n",
    "for n in range(l,u + 1):\n",
    "    if n > 1:\n",
    "        for i in range(2, n):\n",
    "            if n % i== 0:\n",
    "                break\n",
    "        else:\n",
    "            print(n,end=\" \")"
   ]
  },
  {
   "cell_type": "code",
   "execution_count": 36,
   "id": "e021577c",
   "metadata": {},
   "outputs": [
    {
     "name": "stdout",
     "output_type": "stream",
     "text": [
      "Enter the number: 10\n",
      "The number 10 is not prime\n"
     ]
    }
   ],
   "source": [
    "#Check if the numbers are prime or not\n",
    "\n",
    "n=int(input(\"Enter the number: \"))\n",
    "flag=False\n",
    "for i in range(2,n):\n",
    "    if n%i==0:\n",
    "        flag=True\n",
    "        break\n",
    "if flag:\n",
    "    print(\"The number {0} is not prime\".format(n))\n",
    "else:\n",
    "    print(\"The number {0} is prime\".format(n))"
   ]
  },
  {
   "cell_type": "code",
   "execution_count": 37,
   "id": "fa771af1",
   "metadata": {},
   "outputs": [
    {
     "name": "stdout",
     "output_type": "stream",
     "text": [
      "Enter a number: 9\n"
     ]
    },
    {
     "data": {
      "text/plain": [
       "34"
      ]
     },
     "execution_count": 37,
     "metadata": {},
     "output_type": "execute_result"
    }
   ],
   "source": [
    "#Fibonnaci of a number\n",
    "\n",
    "def fibonacci(n):\n",
    "    if n<0:\n",
    "        print(\"Incorrect input\")\n",
    "    elif n==0:\n",
    "        return 0\n",
    "    elif n==1 or n==2:\n",
    "        return 1\n",
    "    else:\n",
    "        return fibonacci(n-1)+fibonacci(n-2)\n",
    "n=int(input(\"Enter a number: \"))\n",
    "fibonacci(n)"
   ]
  },
  {
   "cell_type": "code",
   "execution_count": null,
   "id": "03c6da4a",
   "metadata": {},
   "outputs": [],
   "source": []
  }
 ],
 "metadata": {
  "kernelspec": {
   "display_name": "Python 3 (ipykernel)",
   "language": "python",
   "name": "python3"
  },
  "language_info": {
   "codemirror_mode": {
    "name": "ipython",
    "version": 3
   },
   "file_extension": ".py",
   "mimetype": "text/x-python",
   "name": "python",
   "nbconvert_exporter": "python",
   "pygments_lexer": "ipython3",
   "version": "3.9.12"
  }
 },
 "nbformat": 4,
 "nbformat_minor": 5
}
